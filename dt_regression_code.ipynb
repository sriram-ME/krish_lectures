{
 "cells": [
  {
   "cell_type": "markdown",
   "id": "4a042baa",
   "metadata": {},
   "source": [
    "### Data import"
   ]
  },
  {
   "cell_type": "markdown",
   "id": "2dfe5e3e",
   "metadata": {},
   "source": [
    "#### Import dependencies"
   ]
  },
  {
   "cell_type": "code",
   "execution_count": 25,
   "id": "6567af02",
   "metadata": {},
   "outputs": [],
   "source": [
    "import pandas as pd\n",
    "import numpy as np\n",
    "from matplotlib import pyplot as plt\n",
    "import seaborn as sns\n",
    "from sklearn.tree import DecisionTreeRegressor\n",
    "from sklearn.ensemble import RandomForestRegressor\n",
    "from sklearn.ensemble import GradientBoostingRegressor\n",
    "from sklearn.ensemble import AdaBoostRegressor\n",
    "from sklearn.model_selection import train_test_split\n",
    "from sklearn.metrics import root_mean_squared_error,mean_absolute_error,r2_score\n",
    "from sklearn.model_selection import RandomizedSearchCV\n",
    "from sklearn.preprocessing import LabelEncoder,OneHotEncoder,StandardScaler\n",
    "from sklearn.compose import ColumnTransformer"
   ]
  },
  {
   "cell_type": "markdown",
   "id": "8ef29cb5",
   "metadata": {},
   "source": [
    "#### Importing CSV data"
   ]
  },
  {
   "cell_type": "markdown",
   "id": "9f444d90",
   "metadata": {},
   "source": [
    "✅ index_col tells pandas which column(s) to use as the row index of the DataFrame.\n",
    "\n",
    "✅ [0] means: use the first column (column at position 0) as the index."
   ]
  },
  {
   "cell_type": "code",
   "execution_count": 26,
   "id": "161afe70",
   "metadata": {},
   "outputs": [
    {
     "data": {
      "text/html": [
       "<div>\n",
       "<style scoped>\n",
       "    .dataframe tbody tr th:only-of-type {\n",
       "        vertical-align: middle;\n",
       "    }\n",
       "\n",
       "    .dataframe tbody tr th {\n",
       "        vertical-align: top;\n",
       "    }\n",
       "\n",
       "    .dataframe thead th {\n",
       "        text-align: right;\n",
       "    }\n",
       "</style>\n",
       "<table border=\"1\" class=\"dataframe\">\n",
       "  <thead>\n",
       "    <tr style=\"text-align: right;\">\n",
       "      <th></th>\n",
       "      <th>car_name</th>\n",
       "      <th>brand</th>\n",
       "      <th>model</th>\n",
       "      <th>vehicle_age</th>\n",
       "      <th>km_driven</th>\n",
       "      <th>seller_type</th>\n",
       "      <th>fuel_type</th>\n",
       "      <th>transmission_type</th>\n",
       "      <th>mileage</th>\n",
       "      <th>engine</th>\n",
       "      <th>max_power</th>\n",
       "      <th>seats</th>\n",
       "      <th>selling_price</th>\n",
       "    </tr>\n",
       "  </thead>\n",
       "  <tbody>\n",
       "    <tr>\n",
       "      <th>0</th>\n",
       "      <td>Maruti Alto</td>\n",
       "      <td>Maruti</td>\n",
       "      <td>Alto</td>\n",
       "      <td>9</td>\n",
       "      <td>120000</td>\n",
       "      <td>Individual</td>\n",
       "      <td>Petrol</td>\n",
       "      <td>Manual</td>\n",
       "      <td>19.7</td>\n",
       "      <td>796</td>\n",
       "      <td>46.3</td>\n",
       "      <td>5</td>\n",
       "      <td>120000</td>\n",
       "    </tr>\n",
       "    <tr>\n",
       "      <th>1</th>\n",
       "      <td>Hyundai Grand</td>\n",
       "      <td>Hyundai</td>\n",
       "      <td>Grand</td>\n",
       "      <td>5</td>\n",
       "      <td>20000</td>\n",
       "      <td>Individual</td>\n",
       "      <td>Petrol</td>\n",
       "      <td>Manual</td>\n",
       "      <td>18.9</td>\n",
       "      <td>1197</td>\n",
       "      <td>82.0</td>\n",
       "      <td>5</td>\n",
       "      <td>550000</td>\n",
       "    </tr>\n",
       "  </tbody>\n",
       "</table>\n",
       "</div>"
      ],
      "text/plain": [
       "        car_name    brand  model  vehicle_age  km_driven seller_type  \\\n",
       "0    Maruti Alto   Maruti   Alto            9     120000  Individual   \n",
       "1  Hyundai Grand  Hyundai  Grand            5      20000  Individual   \n",
       "\n",
       "  fuel_type transmission_type  mileage  engine  max_power  seats  \\\n",
       "0    Petrol            Manual     19.7     796       46.3      5   \n",
       "1    Petrol            Manual     18.9    1197       82.0      5   \n",
       "\n",
       "   selling_price  \n",
       "0         120000  \n",
       "1         550000  "
      ]
     },
     "execution_count": 26,
     "metadata": {},
     "output_type": "execute_result"
    }
   ],
   "source": [
    "data = pd.read_csv('cardekho_imputated.csv',index_col=[0])\n",
    "data.head(2)"
   ]
  },
  {
   "cell_type": "markdown",
   "id": "793a47b0",
   "metadata": {},
   "source": [
    "### Data Cleaning"
   ]
  },
  {
   "cell_type": "markdown",
   "id": "d84479d2",
   "metadata": {},
   "source": [
    "#### Drop redundant columns car name and brand"
   ]
  },
  {
   "cell_type": "code",
   "execution_count": 27,
   "id": "82210f0d",
   "metadata": {},
   "outputs": [
    {
     "data": {
      "text/html": [
       "<div>\n",
       "<style scoped>\n",
       "    .dataframe tbody tr th:only-of-type {\n",
       "        vertical-align: middle;\n",
       "    }\n",
       "\n",
       "    .dataframe tbody tr th {\n",
       "        vertical-align: top;\n",
       "    }\n",
       "\n",
       "    .dataframe thead th {\n",
       "        text-align: right;\n",
       "    }\n",
       "</style>\n",
       "<table border=\"1\" class=\"dataframe\">\n",
       "  <thead>\n",
       "    <tr style=\"text-align: right;\">\n",
       "      <th></th>\n",
       "      <th>model</th>\n",
       "      <th>vehicle_age</th>\n",
       "      <th>km_driven</th>\n",
       "      <th>seller_type</th>\n",
       "      <th>fuel_type</th>\n",
       "      <th>transmission_type</th>\n",
       "      <th>mileage</th>\n",
       "      <th>engine</th>\n",
       "      <th>max_power</th>\n",
       "      <th>seats</th>\n",
       "      <th>selling_price</th>\n",
       "    </tr>\n",
       "  </thead>\n",
       "  <tbody>\n",
       "    <tr>\n",
       "      <th>0</th>\n",
       "      <td>Alto</td>\n",
       "      <td>9</td>\n",
       "      <td>120000</td>\n",
       "      <td>Individual</td>\n",
       "      <td>Petrol</td>\n",
       "      <td>Manual</td>\n",
       "      <td>19.7</td>\n",
       "      <td>796</td>\n",
       "      <td>46.3</td>\n",
       "      <td>5</td>\n",
       "      <td>120000</td>\n",
       "    </tr>\n",
       "  </tbody>\n",
       "</table>\n",
       "</div>"
      ],
      "text/plain": [
       "  model  vehicle_age  km_driven seller_type fuel_type transmission_type  \\\n",
       "0  Alto            9     120000  Individual    Petrol            Manual   \n",
       "\n",
       "   mileage  engine  max_power  seats  selling_price  \n",
       "0     19.7     796       46.3      5         120000  "
      ]
     },
     "execution_count": 27,
     "metadata": {},
     "output_type": "execute_result"
    }
   ],
   "source": [
    "data.drop(columns=['car_name','brand'],inplace=True)\n",
    "data.head(1)"
   ]
  },
  {
   "cell_type": "markdown",
   "id": "69debb0b",
   "metadata": {},
   "source": [
    "### Data Exploration"
   ]
  },
  {
   "cell_type": "markdown",
   "id": "9fd012a9",
   "metadata": {},
   "source": [
    "#### Segregating numerical,categorical features,discrete and continuous features"
   ]
  },
  {
   "cell_type": "code",
   "execution_count": 28,
   "id": "9a5de2e2",
   "metadata": {},
   "outputs": [
    {
     "name": "stdout",
     "output_type": "stream",
     "text": [
      "Number of numeric features  7\n",
      "Number of categorical features  4\n",
      "Number of discrete features 2\n",
      "Number of continuous features 5\n"
     ]
    }
   ],
   "source": [
    "numeric_features = [feature for feature in data.columns if data[feature].dtype != 'O']\n",
    "print('Number of numeric features ',len(numeric_features))\n",
    "categorical_features = [feature for feature in data.columns if data[feature].dtype == 'O']\n",
    "print('Number of categorical features ', len(categorical_features))\n",
    "discrete_features = [feature for feature in numeric_features if len(data[feature].unique())<=25]\n",
    "print('Number of discrete features',len(discrete_features))\n",
    "continuous_features = [feature for feature in numeric_features if feature not in discrete_features]\n",
    "print('Number of continuous features',len(continuous_features))"
   ]
  },
  {
   "cell_type": "markdown",
   "id": "e07206a6",
   "metadata": {},
   "source": [
    "### Data Encoding"
   ]
  },
  {
   "cell_type": "markdown",
   "id": "643612e1",
   "metadata": {},
   "source": [
    "#### Splitting dependent and independent variables"
   ]
  },
  {
   "cell_type": "code",
   "execution_count": 29,
   "id": "5d92a93f",
   "metadata": {},
   "outputs": [
    {
     "data": {
      "text/plain": [
       "Index(['model', 'vehicle_age', 'km_driven', 'seller_type', 'fuel_type',\n",
       "       'transmission_type', 'mileage', 'engine', 'max_power', 'seats',\n",
       "       'selling_price'],\n",
       "      dtype='object')"
      ]
     },
     "execution_count": 29,
     "metadata": {},
     "output_type": "execute_result"
    }
   ],
   "source": [
    "data.columns"
   ]
  },
  {
   "cell_type": "code",
   "execution_count": 30,
   "id": "1cac03aa",
   "metadata": {},
   "outputs": [],
   "source": [
    "X = data.iloc[:,:-1]\n",
    "y = data.iloc[:,-1]"
   ]
  },
  {
   "cell_type": "markdown",
   "id": "4e8c5bbf",
   "metadata": {},
   "source": [
    "#### Instantiate and process categorical data"
   ]
  },
  {
   "cell_type": "code",
   "execution_count": 31,
   "id": "73ea5771",
   "metadata": {},
   "outputs": [],
   "source": [
    "le = LabelEncoder()\n",
    "ohe = OneHotEncoder()\n",
    "sc = StandardScaler()"
   ]
  },
  {
   "cell_type": "markdown",
   "id": "0d2af4fc",
   "metadata": {},
   "source": [
    "Label Encoding car model"
   ]
  },
  {
   "cell_type": "code",
   "execution_count": 32,
   "id": "27042468",
   "metadata": {},
   "outputs": [],
   "source": [
    "X['model'] = le.fit_transform(X['model'])"
   ]
  },
  {
   "cell_type": "markdown",
   "id": "a93f6ffd",
   "metadata": {},
   "source": [
    "One hot encoding and scaling"
   ]
  },
  {
   "cell_type": "code",
   "execution_count": 33,
   "id": "c7c61df0",
   "metadata": {},
   "outputs": [
    {
     "data": {
      "text/plain": [
       "Index(['model', 'vehicle_age', 'km_driven', 'mileage', 'engine', 'max_power',\n",
       "       'seats'],\n",
       "      dtype='object')"
      ]
     },
     "execution_count": 33,
     "metadata": {},
     "output_type": "execute_result"
    }
   ],
   "source": [
    "categorical_features = X.select_dtypes(exclude='number').columns\n",
    "numerical_features = X.select_dtypes(exclude='object').columns\n",
    "numerical_features"
   ]
  },
  {
   "cell_type": "markdown",
   "id": "eb8c891a",
   "metadata": {},
   "source": [
    "Creating transformer for encoding numeric and categorical features"
   ]
  },
  {
   "cell_type": "markdown",
   "id": "81e828f6",
   "metadata": {},
   "source": [
    "For Column transformer: Values must be in tuples with Str,Encoder instance and feature must be given as input."
   ]
  },
  {
   "cell_type": "code",
   "execution_count": null,
   "id": "e779281e",
   "metadata": {},
   "outputs": [],
   "source": [
    "preprocess = ColumnTransformer([(\"category\",ohe,categorical_features),(\"number\",sc,numerical_features)],remainder='passthrough')\n",
    "X = preprocess.fit_transform(X)\n"
   ]
  },
  {
   "cell_type": "markdown",
   "id": "9c10e69c",
   "metadata": {},
   "source": [
    "#### Train test split"
   ]
  },
  {
   "cell_type": "code",
   "execution_count": 37,
   "id": "78a084a3",
   "metadata": {},
   "outputs": [],
   "source": [
    "X_train,X_test,Y_train,Y_test = train_test_split(X,y,test_size=0.2,random_state=42)"
   ]
  },
  {
   "cell_type": "markdown",
   "id": "7a452ddf",
   "metadata": {},
   "source": [
    "### Model Training"
   ]
  },
  {
   "cell_type": "markdown",
   "id": "fab8f7b5",
   "metadata": {},
   "source": [
    "#### Create a function for fit and train model"
   ]
  },
  {
   "cell_type": "code",
   "execution_count": 55,
   "id": "b2e026e0",
   "metadata": {},
   "outputs": [],
   "source": [
    "models = [DecisionTreeRegressor(),RandomForestRegressor(),AdaBoostRegressor(),GradientBoostingRegressor()]"
   ]
  },
  {
   "cell_type": "code",
   "execution_count": 88,
   "id": "cd73decd",
   "metadata": {},
   "outputs": [
    {
     "name": "stdout",
     "output_type": "stream",
     "text": [
      "DecisionTreeRegressor()  Prediction Results: \n",
      "\n",
      "Training data accuracy:\n",
      "Root Mean Squared error:  20797.23516567643\n",
      "Mean Absolute error:  5164.819922128488\n",
      "r2_score:  0.9994666998284044 \n",
      "\n",
      "Test data accuracy:\n",
      "Root Mean Squared error:  303391.324657916\n",
      "Mean Absolute error:  124639.33127905721\n",
      "r2_score:  0.877725129590873\n",
      "----------------------------------------------------------------------\n",
      "RandomForestRegressor()  Prediction Results: \n",
      "\n",
      "Training data accuracy:\n",
      "Root Mean Squared error:  148215.18409607722\n",
      "Mean Absolute error:  40230.44819091653\n",
      "r2_score:  0.9729139351650368 \n",
      "\n",
      "Test data accuracy:\n",
      "Root Mean Squared error:  227446.85359455968\n",
      "Mean Absolute error:  101890.11310734894\n",
      "r2_score:  0.931278795709367\n",
      "----------------------------------------------------------------------\n",
      "AdaBoostRegressor()  Prediction Results: \n",
      "\n",
      "Training data accuracy:\n",
      "Root Mean Squared error:  440855.67056374665\n",
      "Mean Absolute error:  336705.438099031\n",
      "r2_score:  0.7603632721722664 \n",
      "\n",
      "Test data accuracy:\n",
      "Root Mean Squared error:  469833.09531099856\n",
      "Mean Absolute error:  352596.3667654439\n",
      "r2_score:  0.7067634469374992\n",
      "----------------------------------------------------------------------\n",
      "GradientBoostingRegressor()  Prediction Results: \n",
      "\n",
      "Training data accuracy:\n",
      "Root Mean Squared error:  204046.85187296217\n",
      "Mean Absolute error:  111666.19181998471\n",
      "r2_score:  0.9486642022282229 \n",
      "\n",
      "Test data accuracy:\n",
      "Root Mean Squared error:  253899.69188770128\n",
      "Mean Absolute error:  126217.08958606141\n",
      "r2_score:  0.9143642229984207\n",
      "----------------------------------------------------------------------\n"
     ]
    }
   ],
   "source": [
    "results = {}\n",
    "\n",
    "def train_eval(models,X_train,X_test,Y_train,Y_test):\n",
    "    for i in range(0,len(models)):\n",
    "        name = type(models[i]).__name__\n",
    "        model = models[i].fit(X_train,Y_train)\n",
    "        train_pred = model.predict(X_train)\n",
    "        test_pred = model.predict(X_test)\n",
    "        rmse_train = root_mean_squared_error(Y_train,train_pred)\n",
    "        mae_train = mean_absolute_error(Y_train,train_pred)\n",
    "        r2_train = r2_score(Y_train,train_pred)\n",
    "        rmse_test = root_mean_squared_error(Y_test,test_pred)\n",
    "        mae_test = mean_absolute_error(Y_test,test_pred)\n",
    "        r2_test = r2_score(Y_test,test_pred)\n",
    "        \n",
    "        print(model,\" Prediction Results: \\n\")\n",
    "        print(\"Training data accuracy:\")\n",
    "        print(\"Root Mean Squared error: \",rmse_train)\n",
    "        print(\"Mean Absolute error: \",mae_train)\n",
    "        print(\"r2_score: \",r2_train,\"\\n\")\n",
    "        print(\"Test data accuracy:\")\n",
    "        print(\"Root Mean Squared error: \",rmse_test)\n",
    "        print(\"Mean Absolute error: \",mae_test)\n",
    "        print(\"r2_score: \",r2_test)\n",
    "        print(\"--\"*35)\n",
    "        \n",
    "        results[name] ={\n",
    "                \"rmse_train\":rmse_train,\n",
    "                \"rmse_test\":rmse_test,\n",
    "                \"mae_train\":mae_train,\n",
    "                \"mae_test\":mae_test,\n",
    "                \"r2_train\":r2_train,\n",
    "                \"r2_test\":r2_test\n",
    "                }        \n",
    "        \n",
    "        \n",
    "    return results\n",
    "\n",
    "\n",
    "final_result = train_eval(models,X_train,X_test,Y_train,Y_test)\n"
   ]
  },
  {
   "cell_type": "code",
   "execution_count": 89,
   "id": "39116419",
   "metadata": {},
   "outputs": [
    {
     "data": {
      "text/plain": [
       "{'DecisionTreeRegressor': {'rmse_train': 20797.23516567643,\n",
       "  'rmse_test': 303391.324657916,\n",
       "  'mae_train': 5164.819922128488,\n",
       "  'mae_test': 124639.33127905721,\n",
       "  'r2_train': 0.9994666998284044,\n",
       "  'r2_test': 0.877725129590873},\n",
       " 'RandomForestRegressor': {'rmse_train': 148215.18409607722,\n",
       "  'rmse_test': 227446.85359455968,\n",
       "  'mae_train': 40230.44819091653,\n",
       "  'mae_test': 101890.11310734894,\n",
       "  'r2_train': 0.9729139351650368,\n",
       "  'r2_test': 0.931278795709367},\n",
       " 'AdaBoostRegressor': {'rmse_train': 440855.67056374665,\n",
       "  'rmse_test': 469833.09531099856,\n",
       "  'mae_train': 336705.438099031,\n",
       "  'mae_test': 352596.3667654439,\n",
       "  'r2_train': 0.7603632721722664,\n",
       "  'r2_test': 0.7067634469374992},\n",
       " 'GradientBoostingRegressor': {'rmse_train': 204046.85187296217,\n",
       "  'rmse_test': 253899.69188770128,\n",
       "  'mae_train': 111666.19181998471,\n",
       "  'mae_test': 126217.08958606141,\n",
       "  'r2_train': 0.9486642022282229,\n",
       "  'r2_test': 0.9143642229984207}}"
      ]
     },
     "execution_count": 89,
     "metadata": {},
     "output_type": "execute_result"
    }
   ],
   "source": [
    "final_result"
   ]
  },
  {
   "cell_type": "code",
   "execution_count": 91,
   "id": "9f29c06b",
   "metadata": {},
   "outputs": [
    {
     "data": {
      "text/html": [
       "<div>\n",
       "<style scoped>\n",
       "    .dataframe tbody tr th:only-of-type {\n",
       "        vertical-align: middle;\n",
       "    }\n",
       "\n",
       "    .dataframe tbody tr th {\n",
       "        vertical-align: top;\n",
       "    }\n",
       "\n",
       "    .dataframe thead th {\n",
       "        text-align: right;\n",
       "    }\n",
       "</style>\n",
       "<table border=\"1\" class=\"dataframe\">\n",
       "  <thead>\n",
       "    <tr style=\"text-align: right;\">\n",
       "      <th></th>\n",
       "      <th>rmse_train</th>\n",
       "      <th>rmse_test</th>\n",
       "      <th>mae_train</th>\n",
       "      <th>mae_test</th>\n",
       "      <th>r2_train</th>\n",
       "      <th>r2_test</th>\n",
       "    </tr>\n",
       "  </thead>\n",
       "  <tbody>\n",
       "    <tr>\n",
       "      <th>DecisionTreeRegressor</th>\n",
       "      <td>20797.235166</td>\n",
       "      <td>303391.324658</td>\n",
       "      <td>5164.819922</td>\n",
       "      <td>124639.331279</td>\n",
       "      <td>0.999467</td>\n",
       "      <td>0.877725</td>\n",
       "    </tr>\n",
       "    <tr>\n",
       "      <th>RandomForestRegressor</th>\n",
       "      <td>148215.184096</td>\n",
       "      <td>227446.853595</td>\n",
       "      <td>40230.448191</td>\n",
       "      <td>101890.113107</td>\n",
       "      <td>0.972914</td>\n",
       "      <td>0.931279</td>\n",
       "    </tr>\n",
       "    <tr>\n",
       "      <th>AdaBoostRegressor</th>\n",
       "      <td>440855.670564</td>\n",
       "      <td>469833.095311</td>\n",
       "      <td>336705.438099</td>\n",
       "      <td>352596.366765</td>\n",
       "      <td>0.760363</td>\n",
       "      <td>0.706763</td>\n",
       "    </tr>\n",
       "    <tr>\n",
       "      <th>GradientBoostingRegressor</th>\n",
       "      <td>204046.851873</td>\n",
       "      <td>253899.691888</td>\n",
       "      <td>111666.191820</td>\n",
       "      <td>126217.089586</td>\n",
       "      <td>0.948664</td>\n",
       "      <td>0.914364</td>\n",
       "    </tr>\n",
       "  </tbody>\n",
       "</table>\n",
       "</div>"
      ],
      "text/plain": [
       "                              rmse_train      rmse_test      mae_train  \\\n",
       "DecisionTreeRegressor       20797.235166  303391.324658    5164.819922   \n",
       "RandomForestRegressor      148215.184096  227446.853595   40230.448191   \n",
       "AdaBoostRegressor          440855.670564  469833.095311  336705.438099   \n",
       "GradientBoostingRegressor  204046.851873  253899.691888  111666.191820   \n",
       "\n",
       "                                mae_test  r2_train   r2_test  \n",
       "DecisionTreeRegressor      124639.331279  0.999467  0.877725  \n",
       "RandomForestRegressor      101890.113107  0.972914  0.931279  \n",
       "AdaBoostRegressor          352596.366765  0.760363  0.706763  \n",
       "GradientBoostingRegressor  126217.089586  0.948664  0.914364  "
      ]
     },
     "execution_count": 91,
     "metadata": {},
     "output_type": "execute_result"
    }
   ],
   "source": [
    "df = pd.DataFrame(final_result).T\n",
    "df.head()"
   ]
  }
 ],
 "metadata": {
  "kernelspec": {
   "display_name": "Python 3",
   "language": "python",
   "name": "python3"
  },
  "language_info": {
   "codemirror_mode": {
    "name": "ipython",
    "version": 3
   },
   "file_extension": ".py",
   "mimetype": "text/x-python",
   "name": "python",
   "nbconvert_exporter": "python",
   "pygments_lexer": "ipython3",
   "version": "3.13.5"
  }
 },
 "nbformat": 4,
 "nbformat_minor": 5
}
